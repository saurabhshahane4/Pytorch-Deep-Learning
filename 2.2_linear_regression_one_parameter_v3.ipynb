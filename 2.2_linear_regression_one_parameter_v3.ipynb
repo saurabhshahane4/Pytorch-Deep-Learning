{
 "cells": [
  {
   "cell_type": "markdown",
   "metadata": {},
   "source": [
    "<a href=\"http://cocl.us/pytorch_link_top\">\n",
    "    <img src=\"https://s3-api.us-geo.objectstorage.softlayer.net/cf-courses-data/CognitiveClass/DL0110EN/notebook_images%20/Pytochtop.png\" width=\"750\" alt=\"IBM Product \" />\n",
    "</a> "
   ]
  },
  {
   "cell_type": "markdown",
   "metadata": {},
   "source": [
    "<img src=\"https://s3-api.us-geo.objectstorage.softlayer.net/cf-courses-data/CognitiveClass/DL0110EN/notebook_images%20/cc-logo-square.png\" width=\"200\" alt=\"cognitiveclass.ai logo\" />"
   ]
  },
  {
   "cell_type": "markdown",
   "metadata": {},
   "source": [
    "<h1>Linear Regression 1D: Training One Parameter</h1>"
   ]
  },
  {
   "cell_type": "markdown",
   "metadata": {},
   "source": [
    "<h2>Table of Contents</h2>\n",
    "<p>In this lab, you will train a model with PyTorch by using data that you created. The model only has one parameter: the slope.</p>\n",
    "\n",
    "<ul>\n",
    "    <li><a href=\"#Makeup_Data\">Make Some Data</a></li>\n",
    "    <li><a href=\"#Model_Cost\">Create the Model and Cost Function (Total Loss)</a></li>\n",
    "    <li><a href=\"#Train\">Train the Model</a></li>\n",
    "</ul>\n",
    "<p>Estimated Time Needed: <strong>20 min</strong></p>\n",
    "\n",
    "<hr>"
   ]
  },
  {
   "cell_type": "markdown",
   "metadata": {},
   "source": [
    "<h2>Preparation</h2>"
   ]
  },
  {
   "cell_type": "markdown",
   "metadata": {},
   "source": [
    "The following are the libraries we are going to use for this lab."
   ]
  },
  {
   "cell_type": "code",
   "execution_count": 1,
   "metadata": {},
   "outputs": [],
   "source": [
    "# These are the libraries will be used for this lab.\n",
    "\n",
    "import numpy as np\n",
    "import matplotlib.pyplot as plt"
   ]
  },
  {
   "cell_type": "markdown",
   "metadata": {},
   "source": [
    "The class <code>plot_diagram</code> helps us to visualize the data space and the parameter space during training and has nothing to do with PyTorch."
   ]
  },
  {
   "cell_type": "code",
   "execution_count": 2,
   "metadata": {},
   "outputs": [],
   "source": [
    "# The class for plotting\n",
    "\n",
    "class plot_diagram():\n",
    "    \n",
    "    # Constructor\n",
    "    def __init__(self, X, Y, w, stop, go = False):\n",
    "        start = w.data\n",
    "        self.error = []\n",
    "        self.parameter = []\n",
    "        self.X = X.numpy()\n",
    "        self.Y = Y.numpy()\n",
    "        self.parameter_values = torch.arange(start, stop)\n",
    "        self.Loss_function = [criterion(forward(X), Y) for w.data in self.parameter_values] \n",
    "        w.data = start\n",
    "        \n",
    "    # Executor\n",
    "    def __call__(self, Yhat, w, error, n):\n",
    "        self.error.append(error)\n",
    "        self.parameter.append(w.data)\n",
    "        plt.subplot(212)\n",
    "        plt.plot(self.X, Yhat.detach().numpy())\n",
    "        plt.plot(self.X, self.Y,'ro')\n",
    "        plt.xlabel(\"A\")\n",
    "        plt.ylim(-20, 20)\n",
    "        plt.subplot(211)\n",
    "        plt.title(\"Data Space (top) Estimated Line (bottom) Iteration \" + str(n))\n",
    "        plt.plot(self.parameter_values.numpy(), self.Loss_function)   \n",
    "        plt.plot(self.parameter, self.error, 'ro')\n",
    "        plt.xlabel(\"B\")\n",
    "        plt.figure()\n",
    "    \n",
    "    # Destructor\n",
    "    def __del__(self):\n",
    "        plt.close('all')"
   ]
  },
  {
   "cell_type": "markdown",
   "metadata": {},
   "source": [
    "<!--Empty Space for separating topics-->"
   ]
  },
  {
   "cell_type": "markdown",
   "metadata": {},
   "source": [
    "<h2 id=\"Makeup_Data\">Make Some Data</h2>"
   ]
  },
  {
   "cell_type": "markdown",
   "metadata": {},
   "source": [
    "Import PyTorch library:"
   ]
  },
  {
   "cell_type": "code",
   "execution_count": 4,
   "metadata": {},
   "outputs": [
    {
     "name": "stdout",
     "output_type": "stream",
     "text": [
      "<module 'torch' from '/home/jupyterlab/conda/envs/python/lib/python3.6/site-packages/torch/__init__.py'>\n"
     ]
    }
   ],
   "source": [
    "# Import the library PyTorch\n",
    "\n",
    "import torch\n",
    "print(torch)"
   ]
  },
  {
   "cell_type": "markdown",
   "metadata": {},
   "source": [
    "Generate values from -3 to 3 that create a line with a slope of -3. This is the line you will estimate."
   ]
  },
  {
   "cell_type": "code",
   "execution_count": 9,
   "metadata": {},
   "outputs": [
    {
     "name": "stdout",
     "output_type": "stream",
     "text": [
      "tensor([[-3.0000],\n",
      "        [-2.9000],\n",
      "        [-2.8000],\n",
      "        [-2.7000],\n",
      "        [-2.6000],\n",
      "        [-2.5000],\n",
      "        [-2.4000],\n",
      "        [-2.3000],\n",
      "        [-2.2000],\n",
      "        [-2.1000],\n",
      "        [-2.0000],\n",
      "        [-1.9000],\n",
      "        [-1.8000],\n",
      "        [-1.7000],\n",
      "        [-1.6000],\n",
      "        [-1.5000],\n",
      "        [-1.4000],\n",
      "        [-1.3000],\n",
      "        [-1.2000],\n",
      "        [-1.1000],\n",
      "        [-1.0000],\n",
      "        [-0.9000],\n",
      "        [-0.8000],\n",
      "        [-0.7000],\n",
      "        [-0.6000],\n",
      "        [-0.5000],\n",
      "        [-0.4000],\n",
      "        [-0.3000],\n",
      "        [-0.2000],\n",
      "        [-0.1000],\n",
      "        [ 0.0000],\n",
      "        [ 0.1000],\n",
      "        [ 0.2000],\n",
      "        [ 0.3000],\n",
      "        [ 0.4000],\n",
      "        [ 0.5000],\n",
      "        [ 0.6000],\n",
      "        [ 0.7000],\n",
      "        [ 0.8000],\n",
      "        [ 0.9000],\n",
      "        [ 1.0000],\n",
      "        [ 1.1000],\n",
      "        [ 1.2000],\n",
      "        [ 1.3000],\n",
      "        [ 1.4000],\n",
      "        [ 1.5000],\n",
      "        [ 1.6000],\n",
      "        [ 1.7000],\n",
      "        [ 1.8000],\n",
      "        [ 1.9000],\n",
      "        [ 2.0000],\n",
      "        [ 2.1000],\n",
      "        [ 2.2000],\n",
      "        [ 2.3000],\n",
      "        [ 2.4000],\n",
      "        [ 2.5000],\n",
      "        [ 2.6000],\n",
      "        [ 2.7000],\n",
      "        [ 2.8000],\n",
      "        [ 2.9000]])\n"
     ]
    }
   ],
   "source": [
    "# Create the f(X) with a slope of -3\n",
    "\n",
    "X = torch.arange(-3, 3, 0.1).view(-1, 1)\n",
    "print(X)\n",
    "f = -3 * X"
   ]
  },
  {
   "cell_type": "markdown",
   "metadata": {},
   "source": [
    "Let us plot the line."
   ]
  },
  {
   "cell_type": "code",
   "execution_count": 10,
   "metadata": {},
   "outputs": [
    {
     "data": {
      "image/png": "[encoded data removed]",
      "text/plain": [
       "<Figure size 432x288 with 1 Axes>"
      ]
     },
     "metadata": {
      "needs_background": "light"
     },
     "output_type": "display_data"
    }
   ],
   "source": [
    "# Plot the line with blue\n",
    "\n",
    "plt.plot(X.numpy(), f.numpy(), label = 'f')\n",
    "plt.xlabel('x')\n",
    "plt.ylabel('y')\n",
    "plt.legend()\n",
    "plt.show()"
   ]
  },
  {
   "cell_type": "markdown",
   "metadata": {},
   "source": [
    "Let us add some noise to the data in order to simulate the real data. Use <code>torch.randn(X.size())</code> to generate Gaussian noise that is the same size as <code>X</code> and has a standard deviation opf 0.1."
   ]
  },
  {
   "cell_type": "code",
   "execution_count": 11,
   "metadata": {},
   "outputs": [],
   "source": [
    "# Add some noise to f(X) and save it in Y\n",
    "\n",
    "Y = f + 0.1 * torch.randn(X.size())"
   ]
  },
  {
   "cell_type": "markdown",
   "metadata": {},
   "source": [
    "Plot the <code>Y</code>: "
   ]
  },
  {
   "cell_type": "code",
   "execution_count": 12,
   "metadata": {},
   "outputs": [
    {
     "data": {
      "image/png": "[encoded data removed]",
      "text/plain": [
       "<Figure size 432x288 with 1 Axes>"
      ]
     },
     "metadata": {
      "needs_background": "light"
     },
     "output_type": "display_data"
    }
   ],
   "source": [
    "# Plot the data points\n",
    "\n",
    "plt.plot(X.numpy(), Y.numpy(), 'rx', label = 'Y')\n",
    "\n",
    "plt.plot(X.numpy(), f.numpy(), label = 'f')\n",
    "plt.xlabel('x')\n",
    "plt.ylabel('y')\n",
    "plt.legend()\n",
    "plt.show()"
   ]
  },
  {
   "cell_type": "markdown",
   "metadata": {},
   "source": [
    "<!--Empty Space for separating topics-->"
   ]
  },
  {
   "cell_type": "markdown",
   "metadata": {},
   "source": [
    "<h2 id=\"Model_Cost\">Create the Model and Cost Function (Total Loss)</h2>"
   ]
  },
  {
   "cell_type": "markdown",
   "metadata": {},
   "source": [
    "In this section, let us create the model and the cost function (total loss) we are going to use to train the model and evaluate the result."
   ]
  },
  {
   "cell_type": "markdown",
   "metadata": {},
   "source": [
    "First, define the <code>forward</code> function $y=w*x$. (We will add the bias in the next lab.)"
   ]
  },
  {
   "cell_type": "code",
   "execution_count": 13,
   "metadata": {},
   "outputs": [],
   "source": [
    "# Create forward function for prediction\n",
    "\n",
    "def forward(x):\n",
    "    return w * x"
   ]
  },
  {
   "cell_type": "markdown",
   "metadata": {},
   "source": [
    "Define the cost or criterion function using MSE (Mean Square Error): "
   ]
  },
  {
   "cell_type": "code",
   "execution_count": 14,
   "metadata": {},
   "outputs": [],
   "source": [
    "# Create the MSE function for evaluate the result.\n",
    "\n",
    "def criterion(yhat, y):\n",
    "    return torch.mean((yhat - y) ** 2)"
   ]
  },
  {
   "cell_type": "markdown",
   "metadata": {},
   "source": [
    "Define the learning rate <code>lr</code> and an empty list <code>LOSS</code> to record the loss for each iteration:   "
   ]
  },
  {
   "cell_type": "code",
   "execution_count": 15,
   "metadata": {},
   "outputs": [],
   "source": [
    "# Create Learning Rate and an empty list to record the loss for each iteration\n",
    "\n",
    "lr = 0.1\n",
    "LOSS = []"
   ]
  },
  {
   "cell_type": "markdown",
   "metadata": {},
   "source": [
    "Now, we create a model parameter by setting the argument <code>requires_grad</code> to <code> True</code> because the system must learn it."
   ]
  },
  {
   "cell_type": "code",
   "execution_count": 16,
   "metadata": {},
   "outputs": [],
   "source": [
    "w = torch.tensor(-10.0, requires_grad = True)"
   ]
  },
  {
   "cell_type": "markdown",
   "metadata": {},
   "source": [
    "Create a <code>plot_diagram</code> object to visualize the data space and the parameter space for each iteration during training:"
   ]
  },
  {
   "cell_type": "code",
   "execution_count": 17,
   "metadata": {},
   "outputs": [],
   "source": [
    "gradient_plot = plot_diagram(X, Y, w, stop = 5)"
   ]
  },
  {
   "cell_type": "markdown",
   "metadata": {},
   "source": [
    "<!--Empty Space for separating topics-->"
   ]
  },
  {
   "cell_type": "markdown",
   "metadata": {},
   "source": [
    "<h2 id=\"Train\">Train the Model</h2>"
   ]
  },
  {
   "cell_type": "markdown",
   "metadata": {},
   "source": [
    "Let us define a function for training the model. The steps will be described in the comments."
   ]
  },
  {
   "cell_type": "code",
   "execution_count": 18,
   "metadata": {},
   "outputs": [],
   "source": [
    "# Define a function for train the model\n",
    "\n",
    "def train_model(iter):\n",
    "    for epoch in range (iter):\n",
    "        \n",
    "        # make the prediction as we learned in the last lab\n",
    "        Yhat = forward(X)\n",
    "        \n",
    "        # calculate the iteration\n",
    "        loss = criterion(Yhat,Y)\n",
    "        \n",
    "        # plot the diagram for us to have a better idea\n",
    "        gradient_plot(Yhat, w, loss.item(), epoch)\n",
    "        \n",
    "        # store the loss into list\n",
    "        LOSS.append(loss.item())\n",
    "        \n",
    "        # backward pass: compute gradient of the loss with respect to all the learnable parameters\n",
    "        loss.backward()\n",
    "        \n",
    "        # updata parameters\n",
    "        w.data = w.data - lr * w.grad.data\n",
    "        \n",
    "        # zero the gradients before running the backward pass\n",
    "        w.grad.data.zero_()"
   ]
  },
  {
   "cell_type": "markdown",
   "metadata": {},
   "source": [
    "Let us try to run 4 iterations of gradient descent:  "
   ]
  },
  {
   "cell_type": "code",
   "execution_count": 19,
   "metadata": {},
   "outputs": [
    {
     "data": {
      "image/png": "[encoded data removed]",
      "text/plain": [
       "<Figure size 432x288 with 2 Axes>"
      ]
     },
     "metadata": {
      "needs_background": "light"
     },
     "output_type": "display_data"
    },
    {
     "data": {
      "image/png": "[encoded data removed]",
      "text/plain": [
       "<Figure size 432x288 with 2 Axes>"
      ]
     },
     "metadata": {
      "needs_background": "light"
     },
     "output_type": "display_data"
    },
    {
     "data": {
      "image/png": "[encoded data removed]",
      "text/plain": [
       "<Figure size 432x288 with 2 Axes>"
      ]
     },
     "metadata": {
      "needs_background": "light"
     },
     "output_type": "display_data"
    },
    {
     "data": {
      "image/png": "[encoded data removed]",
      "text/plain": [
       "<Figure size 432x288 with 2 Axes>"
      ]
     },
     "metadata": {
      "needs_background": "light"
     },
     "output_type": "display_data"
    },
    {
     "data": {
      "text/plain": [
       "<Figure size 432x288 with 0 Axes>"
      ]
     },
     "metadata": {},
     "output_type": "display_data"
    }
   ],
   "source": [
    "# Give 4 iterations for training the model here.\n",
    "\n",
    "train_model(4)"
   ]
  },
  {
   "cell_type": "markdown",
   "metadata": {},
   "source": [
    "Plot the cost for each iteration: "
   ]
  },
  {
   "cell_type": "code",
   "execution_count": 20,
   "metadata": {},
   "outputs": [
    {
     "data": {
      "text/plain": [
       "Text(23.875, 0.5, 'Cost')"
      ]
     },
     "execution_count": 20,
     "metadata": {},
     "output_type": "execute_result"
    },
    {
     "data": {
      "image/png": "[encoded data removed]",
      "text/plain": [
       "<Figure size 432x288 with 1 Axes>"
      ]
     },
     "metadata": {
      "needs_background": "light"
     },
     "output_type": "display_data"
    }
   ],
   "source": [
    "# Plot the loss for each iteration\n",
    "\n",
    "plt.plot(LOSS)\n",
    "plt.tight_layout()\n",
    "plt.xlabel(\"Epoch/Iterations\")\n",
    "plt.ylabel(\"Cost\")"
   ]
  },
  {
   "cell_type": "markdown",
   "metadata": {},
   "source": [
    "<!--Empty Space for separating topics-->"
   ]
  },
  {
   "cell_type": "markdown",
   "metadata": {},
   "source": [
    "<h3>Practice</h3>"
   ]
  },
  {
   "cell_type": "markdown",
   "metadata": {},
   "source": [
    "Create a new learnable parameter <code>w</code> with an initial value of -15.0."
   ]
  },
  {
   "cell_type": "code",
   "execution_count": 22,
   "metadata": {},
   "outputs": [],
   "source": [
    "# Practice: Create w with the inital value of -15.0\n",
    "\n",
    "# Type your code here\n",
    "w = torch.tensor(-15.0, requires_grad =  True)"
   ]
  },
  {
   "cell_type": "markdown",
   "metadata": {},
   "source": [
    "Double-click <b>here</b> for the solution.\n",
    "<!-- Your answer is below:\n",
    "w = torch.tensor(-15.0, requires_grad=True)\n",
    "-->"
   ]
  },
  {
   "cell_type": "markdown",
   "metadata": {},
   "source": [
    "<!--Empty Space for separating topics-->"
   ]
  },
  {
   "cell_type": "markdown",
   "metadata": {},
   "source": [
    "Create an empty list <code>LOSS2</code>:"
   ]
  },
  {
   "cell_type": "code",
   "execution_count": 23,
   "metadata": {},
   "outputs": [],
   "source": [
    "# Practice: Create LOSS2 list\n",
    "LOSS2 = []\n",
    "# Type your code here"
   ]
  },
  {
   "cell_type": "markdown",
   "metadata": {},
   "source": [
    "Double-click <b>here</b> for the solution.\n",
    "<!-- Your answer is below:\n",
    "LOSS2 = []\n",
    "-->"
   ]
  },
  {
   "cell_type": "markdown",
   "metadata": {},
   "source": [
    "<!--Empty Space for separating topics-->"
   ]
  },
  {
   "cell_type": "markdown",
   "metadata": {},
   "source": [
    "Write your own <code>my_train_model</code> function with loss list <code>LOSS2</code>. And run it with 4 iterations."
   ]
  },
  {
   "cell_type": "code",
   "execution_count": 24,
   "metadata": {},
   "outputs": [],
   "source": [
    "# Practice: Create your own my_train_model\n",
    "\n",
    "gradient_plot1 = plot_diagram(X, Y, w, stop = 15)\n",
    "def my_train_model(iter):\n",
    "    for epoch in range(iter):\n",
    "        Yhat = forward(X)\n",
    "        Loss = criterion(Yhat, y )\n",
    "        gradient_plot1(Yhat, w, loss.item(), epoch)\n",
    "        LOSS2.append(loss)\n",
    "        loss.backward()\n",
    "        w.data = w.data - lr * w.grad.data\n",
    "        w.grad.data.zero_()"
   ]
  },
  {
   "cell_type": "markdown",
   "metadata": {},
   "source": [
    "Double-click <b>here</b> for the solution.\n",
    "\n",
    "<!-- Your answer is below:\n",
    "\n",
    "def my_train_model(iter):\n",
    "    for epoch in range (iter):\n",
    "        Yhat = forward(X)\n",
    "        loss = criterion(Yhat,Y)\n",
    "        gradient_plot1(Yhat, w, loss.item(), epoch)\n",
    "        LOSS2.append(loss)\n",
    "        loss.backward()\n",
    "        w.data = w.data - lr * w.grad.data\n",
    "        w.grad.data.zero_()\n",
    "my_train_model(4)\n",
    "    -->"
   ]
  },
  {
   "cell_type": "markdown",
   "metadata": {},
   "source": [
    "<!--Empty Space for separating topics-->"
   ]
  },
  {
   "cell_type": "markdown",
   "metadata": {},
   "source": [
    "Plot an overlay of the list <code>LOSS2</code> and <code>LOSS</code>. "
   ]
  },
  {
   "cell_type": "code",
   "execution_count": 26,
   "metadata": {},
   "outputs": [
    {
     "data": {
      "text/plain": [
       "<matplotlib.legend.Legend at 0x7fb120709160>"
      ]
     },
     "execution_count": 26,
     "metadata": {},
     "output_type": "execute_result"
    },
    {
     "data": {
      "image/png": "[encoded data removed]",
      "text/plain": [
       "<Figure size 432x288 with 1 Axes>"
      ]
     },
     "metadata": {
      "needs_background": "light"
     },
     "output_type": "display_data"
    }
   ],
   "source": [
    "plt.plot(LOSS, label = \"LOSS\")\n",
    "plt.plot(LOSS2, label = \"LOSS2\")\n",
    "plt.tight_layout()\n",
    "plt.xlabel(\"Epoch/Iterations\")\n",
    "plt.ylabel(\"Cost\")\n",
    "plt.legend()"
   ]
  },
  {
   "cell_type": "markdown",
   "metadata": {},
   "source": [
    "Double-click <b>here</b> for the solution.\n",
    "\n",
    "<!-- Your answer is below:\n",
    "plt.plot(LOSS, label = \"LOSS\")\n",
    "plt.plot(LOSS2, label = \"LOSS2\")\n",
    "plt.tight_layout()\n",
    "plt.xlabel(\"Epoch/Iterations\")\n",
    "plt.ylabel(\"Cost\")\n",
    "plt.legend()\n",
    "-->"
   ]
  },
  {
   "cell_type": "markdown",
   "metadata": {},
   "source": [
    "<!--Empty Space for separating topics-->"
   ]
  },
  {
   "cell_type": "markdown",
   "metadata": {},
   "source": [
    "What does this tell you about the parameter value? "
   ]
  },
  {
   "cell_type": "markdown",
   "metadata": {},
   "source": [
    "Double-click <b>here</b> for the solution.\n",
    "\n",
    "<!-- Your answer is below:\n",
    "the parameter value is sensitive to initialization  \n",
    "    -->"
   ]
  },
  {
   "cell_type": "markdown",
   "metadata": {},
   "source": [
    "<!--Empty Space for separating topics-->"
   ]
  },
  {
   "cell_type": "markdown",
   "metadata": {},
   "source": [
    "<a href=\"http://cocl.us/pytorch_link_bottom\">\n",
    "    <img src=\"https://s3-api.us-geo.objectstorage.softlayer.net/cf-courses-data/CognitiveClass/DL0110EN/notebook_images%20/notebook_bottom%20.png\" width=\"750\" alt=\"PyTorch Bottom\" />\n",
    "</a>"
   ]
  },
  {
   "cell_type": "markdown",
   "metadata": {},
   "source": [
    "<h2>About the Authors:</h2> \n",
    "\n",
    "<a href=\"https://www.linkedin.com/in/joseph-s-50398b136/\">Joseph Santarcangelo</a> has a PhD in Electrical Engineering, his research focused on using machine learning, signal processing, and computer vision to determine how videos impact human cognition. Joseph has been working for IBM since he completed his PhD."
   ]
  },
  {
   "cell_type": "markdown",
   "metadata": {},
   "source": [
    "Other contributors: <a href=\"https://www.linkedin.com/in/michelleccarey/\">Michelle Carey</a>, <a href=\"www.linkedin.com/in/jiahui-mavis-zhou-a4537814a\">Mavis Zhou</a> "
   ]
  },
  {
   "cell_type": "markdown",
   "metadata": {},
   "source": [
    "<hr>"
   ]
  },
  {
   "cell_type": "markdown",
   "metadata": {},
   "source": [
    "Copyright &copy; 2018 <a href=\"cognitiveclass.ai?utm_source=bducopyrightlink&utm_medium=dswb&utm_campaign=bdu\">cognitiveclass.ai</a>. This notebook and its source code are released under the terms of the <a href=\"https://bigdatauniversity.com/mit-license/\">MIT License</a>."
   ]
  }
 ],
 "metadata": {
  "kernelspec": {
   "display_name": "Python",
   "language": "python",
   "name": "conda-env-python-py"
  },
  "language_info": {
   "codemirror_mode": {
    "name": "ipython",
    "version": 3
   },
   "file_extension": ".py",
   "mimetype": "text/x-python",
   "name": "python",
   "nbconvert_exporter": "python",
   "pygments_lexer": "ipython3",
   "version": "3.6.10"
  }
 },
 "nbformat": 4,
 "nbformat_minor": 4
}
